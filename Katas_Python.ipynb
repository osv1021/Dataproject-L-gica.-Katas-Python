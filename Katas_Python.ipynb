{
 "cells": [
  {
   "cell_type": "code",
   "execution_count": 1,
   "id": "a9bd8a89",
   "metadata": {},
   "outputs": [],
   "source": [
    "#Ejercicio 1: escribe una función que reciba una cadena de texto como parámetro y devuelva un diccionario con las frecuencias de cada letra en la cadena. Los espacios no deben ser considerados.\n",
    "def contar_frecuencias_letras(cadena):\n",
    "    \"\"\"\n",
    "    Devuelve un diccionario con la frecuencia de cada letra en una cadena.\n",
    "    Los espacios son ignorados. Se normaliza a minúsculas.\n",
    "\n",
    "    Parámetros:\n",
    "    cadena (str): Texto de entrada\n",
    "\n",
    "    Retorna:\n",
    "    dict: Diccionario con letras como claves y frecuencias como valores\n",
    "    \"\"\"\n",
    "    frecuencias = {}\n",
    "\n",
    "    for caracter in cadena:\n",
    "        if caracter != \" \":\n",
    "            letra = caracter.lower()\n",
    "            frecuencias[letra] = frecuencias.get(letra, 0) + 1\n",
    "\n",
    "    return frecuencias"
   ]
  },
  {
   "cell_type": "code",
   "execution_count": 2,
   "id": "c2b14ddd",
   "metadata": {},
   "outputs": [
    {
     "name": "stdout",
     "output_type": "stream",
     "text": [
      "Frecuencias de letras: {'h': 1, 'o': 2, 'l': 1, 'a': 1, 'm': 1, 'u': 1, 'n': 1, 'd': 1}\n"
     ]
    }
   ],
   "source": [
    "#Ejemplo de uso\n",
    "texto = \"Hola Mundo\"\n",
    "resultado = contar_frecuencias_letras(texto)\n",
    "print(\"Frecuencias de letras:\", resultado)"
   ]
  },
  {
   "cell_type": "code",
   "execution_count": 3,
   "id": "91f6e395",
   "metadata": {},
   "outputs": [],
   "source": [
    "#Ejercicio 2: dada una lista de números, obtén una nueva lista con el doble de cada valor. Usa la función map().\n",
    "def duplicar_valores(lista):\n",
    "    \"\"\"\n",
    "    Devuelve una nueva lista con el doble de cada número usando map().\n",
    "\n",
    "    Parámetros:\n",
    "    lista (list): Lista de números (int o float)\n",
    "\n",
    "    Retorna:\n",
    "    list: Lista con los valores duplicados\n",
    "    \"\"\"\n",
    "    return list(map(lambda x: x * 2, lista))\n"
   ]
  },
  {
   "cell_type": "code",
   "execution_count": 4,
   "id": "55a6459b",
   "metadata": {},
   "outputs": [
    {
     "name": "stdout",
     "output_type": "stream",
     "text": [
      "Lista con valores duplicados: [2, 4, 6, 8, 10]\n"
     ]
    }
   ],
   "source": [
    "#Ejemplo de uso\n",
    "numeros = [1, 2, 3, 4, 5]\n",
    "resultado = duplicar_valores(numeros)\n",
    "print(\"Lista con valores duplicados:\", resultado)"
   ]
  },
  {
   "cell_type": "code",
   "execution_count": 5,
   "id": "9e38eeb1",
   "metadata": {},
   "outputs": [],
   "source": [
    "#Ejercicio 3: escribe una función que tome una lista de palabras y una palabra objetivo como parámetros. La función debe devolver una lista con todas las palabras de la lista original que contengan la palabra objetivo.\n",
    "def filtrar_por_palabra_objetivo(lista_palabras, palabra_objetivo):\n",
    "    \"\"\"\n",
    "    Devuelve una lista con las palabras que contienen la palabra objetivo.\n",
    "\n",
    "    Parámetros:\n",
    "    lista_palabras (list): Lista de palabras (str)\n",
    "    palabra_objetivo (str): Palabra que se debe buscar dentro de cada elemento\n",
    "\n",
    "    Retorna:\n",
    "    list: Lista con las palabras que contienen la palabra objetivo\n",
    "    \"\"\"\n",
    "    return [palabra for palabra in lista_palabras if palabra_objetivo in palabra]"
   ]
  },
  {
   "cell_type": "code",
   "execution_count": 6,
   "id": "154d1faa",
   "metadata": {},
   "outputs": [
    {
     "name": "stdout",
     "output_type": "stream",
     "text": [
      "Palabras que contienen el objetivo: ['portátil', 'portapapeles']\n"
     ]
    }
   ],
   "source": [
    "#Ejemplo de uso\n",
    "palabras = [\"computadora\", \"portátil\", \"ratón\", \"teclado\", \"tableta\", \"portapapeles\"]\n",
    "objetivo = \"port\"\n",
    "resultado = filtrar_por_palabra_objetivo(palabras, objetivo)\n",
    "print(\"Palabras que contienen el objetivo:\", resultado)\n"
   ]
  },
  {
   "cell_type": "code",
   "execution_count": 7,
   "id": "1ea7e2ba",
   "metadata": {},
   "outputs": [],
   "source": [
    "#Ejercicio 4: genera una función que calcule la diferencia entre los valores de dos listas. Usa la función map().\n",
    "def restar_listas(lista1, lista2):\n",
    "    \"\"\"\n",
    "    Calcula la diferencia entre los elementos correspondientes de dos listas\n",
    "    usando la función map().\n",
    "\n",
    "    Parámetros:\n",
    "    lista1 (list): Primera lista de números (int o float)\n",
    "    lista2 (list): Segunda lista de números (int o float)\n",
    "\n",
    "    Retorna:\n",
    "    list: Lista con las diferencias (lista1[i] - lista2[i])\n",
    "    \"\"\"\n",
    "    if len(lista1) != len(lista2):\n",
    "        raise ValueError(\"Las listas deben tener la misma longitud.\")\n",
    "\n",
    "    return list(map(lambda x, y: x - y, lista1, lista2))\n"
   ]
  },
  {
   "cell_type": "code",
   "execution_count": 8,
   "id": "0c9ef66b",
   "metadata": {},
   "outputs": [
    {
     "name": "stdout",
     "output_type": "stream",
     "text": [
      "Diferencia entre listas: [9, 15, 20]\n"
     ]
    }
   ],
   "source": [
    "#Ejemplo de uso\n",
    "a = [10, 20, 30]\n",
    "b = [1, 5, 10]\n",
    "resultado = restar_listas(a, b)\n",
    "print(\"Diferencia entre listas:\", resultado)\n"
   ]
  },
  {
   "cell_type": "code",
   "execution_count": 9,
   "id": "33113967",
   "metadata": {},
   "outputs": [],
   "source": [
    "#Ejercicio 5: escribe una función que tome una lista de números como parámetro y un valor opcional nota_aprobado, que por defecto es 5. La función debe calcular la media de los números en la lista y determinar si la media es mayor o igual que nota aprobado. Si es así, el estado será \"aprobado\", de lo contrario, será \"suspenso\". La función debe devolver una tupla que contenga la media y el estado.\n",
    "def evaluar_promedio(notas, nota_aprobado=5):\n",
    "    \"\"\"\n",
    "    Calcula la media de una lista de notas y determina si está aprobada.\n",
    "\n",
    "    Parámetros:\n",
    "    notas (list): Lista de números (int o float)\n",
    "    nota_aprobado (float, opcional): Nota mínima para aprobar (por defecto 5)\n",
    "\n",
    "    Retorna:\n",
    "    tuple: (media, estado) donde estado es \"aprobado\" o \"suspenso\"\n",
    "    \"\"\"\n",
    "    if not notas:\n",
    "        raise ValueError(\"La lista de notas no puede estar vacía.\")\n",
    "\n",
    "    media = sum(notas) / len(notas)\n",
    "    estado = \"aprobado\" if media >= nota_aprobado else \"suspenso\"\n",
    "\n",
    "    return (media, estado)"
   ]
  },
  {
   "cell_type": "code",
   "execution_count": 10,
   "id": "5a760299",
   "metadata": {},
   "outputs": [
    {
     "name": "stdout",
     "output_type": "stream",
     "text": [
      "Media y estado: (5.75, 'aprobado')\n"
     ]
    }
   ],
   "source": [
    "#Ejemplo de uso\n",
    "notas_estudiante = [6.5, 7.0, 4.5, 5.0]\n",
    "resultado = evaluar_promedio(notas_estudiante)\n",
    "print(\"Media y estado:\", resultado)"
   ]
  },
  {
   "cell_type": "code",
   "execution_count": 11,
   "id": "f5989c2e",
   "metadata": {},
   "outputs": [],
   "source": [
    "#Ejercicio 6: escribe una función que calcule el factorial de un número de manera recursiva\n",
    "def factorial(n):\n",
    "    \"\"\"\n",
    "    Calcula el factorial de un número de forma recursiva.\n",
    "\n",
    "    Parámetros:\n",
    "    n (int): Número entero no negativo\n",
    "\n",
    "    Retorna:\n",
    "    int: Factorial de n\n",
    "\n",
    "    Lanza:\n",
    "    ValueError: Si n es negativo\n",
    "    \"\"\"\n",
    "    if n < 0:\n",
    "        raise ValueError(\"El número debe ser no negativo.\")\n",
    "    if n == 0 or n == 1:\n",
    "        return 1\n",
    "    return n * factorial(n - 1)\n"
   ]
  },
  {
   "cell_type": "code",
   "execution_count": 12,
   "id": "61c5c8ba",
   "metadata": {},
   "outputs": [
    {
     "name": "stdout",
     "output_type": "stream",
     "text": [
      "El factorial de 5 es 120\n"
     ]
    }
   ],
   "source": [
    "#Ejemplo de uso\n",
    "numero = 5\n",
    "resultado = factorial(numero)\n",
    "print(f\"El factorial de {numero} es {resultado}\")"
   ]
  },
  {
   "cell_type": "code",
   "execution_count": 13,
   "id": "f291046f",
   "metadata": {},
   "outputs": [],
   "source": [
    "#Ejercicio 7: genera una función que convierta una lista de tuplas a una lista de strings. Usa la función map().\n",
    "def tuplas_a_strings(lista_tuplas):\n",
    "    \"\"\"\n",
    "    Convierte una lista de tuplas a una lista de strings, uniendo los elementos de cada tupla.\n",
    "\n",
    "    Parámetros:\n",
    "    lista_tuplas (list): Lista de tuplas (con elementos convertibles a str)\n",
    "\n",
    "    Retorna:\n",
    "    list: Lista de strings\n",
    "    \"\"\"\n",
    "    return list(map(lambda tupla: \" \".join(map(str, tupla)), lista_tuplas))\n"
   ]
  },
  {
   "cell_type": "code",
   "execution_count": 14,
   "id": "c0d8a831",
   "metadata": {},
   "outputs": [
    {
     "name": "stdout",
     "output_type": "stream",
     "text": [
      "Lista de strings: ['Ana Gómez', 'Luis Pérez', 'Carla Soto']\n"
     ]
    }
   ],
   "source": [
    "#Ejemplo de uso\n",
    "tuplas = [(\"Ana\", \"Gómez\"), (\"Luis\", \"Pérez\"), (\"Carla\", \"Soto\")]\n",
    "resultado = tuplas_a_strings(tuplas)\n",
    "print(\"Lista de strings:\", resultado)\n"
   ]
  },
  {
   "cell_type": "code",
   "execution_count": 8,
   "id": "acb3f167",
   "metadata": {},
   "outputs": [
    {
     "name": "stdout",
     "output_type": "stream",
     "text": [
      "División exitosa. El resultado es: 5.0\n"
     ]
    }
   ],
   "source": [
    "#Ejercicio 8: escribe un programa que pida al usuario dos números e intente dividirlos. Si el usuario ingresa un valor no numérico o intenta dividir por cero, maneja esas excepciones de manera adecuada. Asegúrate de mostrar un mensaje indicando si la división fue exitosa o no.\n",
    "def dividir(num1, num2):\n",
    "    \"\"\"\n",
    "    Realiza la división entre dos números.\n",
    "\n",
    "    Parámetros:\n",
    "    num1 (int o float): Dividendo.\n",
    "    num2 (int o float): Divisor.\n",
    "\n",
    "    Retorna:\n",
    "    float: Resultado de la división.\n",
    "\n",
    "    Lanza:\n",
    "    ValueError: Si los valores no son numéricos.\n",
    "    ZeroDivisionError: Si se intenta dividir entre cero.\n",
    "    \"\"\"\n",
    "    if not all(isinstance(x, (int, float)) for x in (num1, num2)):\n",
    "        raise ValueError(\"Se requieren valores numéricos.\")\n",
    "    \n",
    "    return num1 / num2\n",
    "\n",
    "def main():\n",
    "    \"\"\"\n",
    "    Función principal que pide números al usuario\n",
    "    e intenta dividirlos, manejando errores esperados.\n",
    "    \"\"\"\n",
    "    try:\n",
    "        a = float(input(\"Ingresa el primer número: \"))\n",
    "        b = float(input(\"Ingresa el segundo número: \"))\n",
    "        resultado = dividir(a, b)\n",
    "        print(f\"División exitosa. El resultado es: {resultado}\")\n",
    "    except (ValueError, ZeroDivisionError) as e:\n",
    "        print(f\"Error: {e}\")\n",
    "\n",
    "# Ejecutar la función principal\n",
    "main()"
   ]
  },
  {
   "cell_type": "code",
   "execution_count": 17,
   "id": "663f2c9b",
   "metadata": {},
   "outputs": [],
   "source": [
    "#Ejercicio 9: escribe una función que tome una lista de nombres de mascotas como parámetro y devuelva una nueva lista excluyendo ciertas mascotas prohibidas en España. La lista de mascotas a excluir es [\"Mapache\", \"Tigre\",\"Serpiente Pitón\", \"Cocodrilo\", \"Oso\"].Usa la función filter()\n",
    "def filtrar_mascotas_permitidas(lista_mascotas):\n",
    "    \"\"\"\n",
    "    Devuelve una lista de mascotas excluyendo aquellas que están prohibidas en España.\n",
    "\n",
    "    Parámetros:\n",
    "    lista_mascotas (list): Lista de nombres de mascotas (str)\n",
    "\n",
    "    Retorna:\n",
    "    list: Lista filtrada sin las mascotas prohibidas\n",
    "    \"\"\"\n",
    "    mascotas_prohibidas = {\"Mapache\", \"Tigre\", \"Serpiente Pitón\", \"Cocodrilo\", \"Oso\"}\n",
    "    \n",
    "    return list(filter(lambda m: m not in mascotas_prohibidas, lista_mascotas))\n"
   ]
  },
  {
   "cell_type": "code",
   "execution_count": 18,
   "id": "60dbaaac",
   "metadata": {},
   "outputs": [
    {
     "name": "stdout",
     "output_type": "stream",
     "text": [
      "Mascotas permitidas: ['Perro', 'Gato', 'Hamster', 'Loro']\n"
     ]
    }
   ],
   "source": [
    "#Ejemplo de uso\n",
    "mascotas = [\"Perro\", \"Gato\", \"Tigre\", \"Hamster\", \"Serpiente Pitón\", \"Loro\"]\n",
    "resultado = filtrar_mascotas_permitidas(mascotas)\n",
    "print(\"Mascotas permitidas:\", resultado)"
   ]
  },
  {
   "cell_type": "code",
   "execution_count": 19,
   "id": "d4007b53",
   "metadata": {},
   "outputs": [],
   "source": [
    "#Ejercicio 10: escribe una función que reciba una lista de números y calcule su promedio. Si la lista está vacía, lanza una excepción personalizada y maneja el error adecuadamente.\n",
    "class ListaVaciaError(Exception):\n",
    "    \"\"\"Excepción personalizada para listas vacías.\"\"\"\n",
    "    pass\n",
    "\n",
    "def calcular_promedio(numeros):\n",
    "    \"\"\"\n",
    "    Calcula el promedio de una lista de números.\n",
    "\n",
    "    Parámetros:\n",
    "    numeros (list): Lista de números (int o float)\n",
    "\n",
    "    Retorna:\n",
    "    float: Promedio de los números\n",
    "\n",
    "    Lanza:\n",
    "    ListaVaciaError: Si la lista está vacía\n",
    "    \"\"\"\n",
    "    if not numeros:\n",
    "        raise ListaVaciaError(\"Error: la lista está vacía y no se puede calcular el promedio.\")\n",
    "\n",
    "    return sum(numeros) / len(numeros)\n"
   ]
  },
  {
   "cell_type": "code",
   "execution_count": 21,
   "id": "5b993f0d",
   "metadata": {},
   "outputs": [
    {
     "name": "stdout",
     "output_type": "stream",
     "text": [
      "El promedio es: 8.00\n"
     ]
    }
   ],
   "source": [
    "#Ejemplo de uso\n",
    "try:\n",
    "    datos = [7,8,9]  \n",
    "    promedio = calcular_promedio(datos)\n",
    "    print(f\"El promedio es: {promedio:.2f}\")\n",
    "except ListaVaciaError as e:\n",
    "    print(e)"
   ]
  },
  {
   "cell_type": "code",
   "execution_count": 22,
   "id": "3ddb3a9b",
   "metadata": {},
   "outputs": [
    {
     "name": "stdout",
     "output_type": "stream",
     "text": [
      "Edad válida registrada: 12 años\n",
      "Fin del programa.\n"
     ]
    }
   ],
   "source": [
    "#Ejercicio 11: escribe un programa que pida al usuario que introduzca su edad. Si el usuario ingresa un valor no numérico o un valor fuera del rango esperado (por ejemplo, menor que 0 o mayor que 120), maneja las excepciones adecuadamente.\n",
    "def pedir_edad():\n",
    "    \"\"\"\n",
    "    Solicita al usuario que introduzca su edad.\n",
    "    Maneja errores si el valor no es numérico o está fuera del rango permitido (0-120).\n",
    "    \"\"\"\n",
    "    try:\n",
    "        entrada = input(\"Introduce tu edad: \")\n",
    "        edad = int(entrada)\n",
    "\n",
    "        if edad < 0 or edad > 120:\n",
    "            raise ValueError(\"La edad debe estar entre 0 y 120 años.\")\n",
    "\n",
    "        print(f\"Edad válida registrada: {edad} años\")\n",
    "\n",
    "    except ValueError as e:\n",
    "        print(f\"Entrada inválida: {e}\")\n",
    "    except Exception as e:\n",
    "        print(f\"Error inesperado: {e}\")\n",
    "    finally:\n",
    "        print(\"Fin del programa.\")\n",
    "\n",
    "# Ejecutar la función\n",
    "pedir_edad()"
   ]
  },
  {
   "cell_type": "code",
   "execution_count": 23,
   "id": "a4d297bc",
   "metadata": {},
   "outputs": [],
   "source": [
    "#Ejercicio 12: genera una función que al recibir una frase devuelva una lista con la longitud de cada palabra. Usa la función map()\n",
    "def longitudes_palabras(frase):\n",
    "    \"\"\"\n",
    "    Devuelve una lista con la longitud de cada palabra en una frase.\n",
    "\n",
    "    Parámetros:\n",
    "    frase (str): Frase de entrada\n",
    "\n",
    "    Retorna:\n",
    "    list: Lista de longitudes de cada palabra\n",
    "    \"\"\"\n",
    "    palabras = frase.split()\n",
    "    return list(map(len, palabras))"
   ]
  },
  {
   "cell_type": "code",
   "execution_count": 25,
   "id": "36abdfc6",
   "metadata": {},
   "outputs": [
    {
     "name": "stdout",
     "output_type": "stream",
     "text": [
      "Longitudes de las palabras: [3, 2, 7]\n"
     ]
    }
   ],
   "source": [
    "#Ejemplo de uso\n",
    "frase = \"Hoy es viernes\"\n",
    "resultado = longitudes_palabras(frase)\n",
    "print(\"Longitudes de las palabras:\", resultado)\n"
   ]
  },
  {
   "cell_type": "code",
   "execution_count": null,
   "id": "b6342d9d",
   "metadata": {},
   "outputs": [],
   "source": [
    "#Ejercicio 13: genera una función la cual, para un conjunto de caracteres, devuelva una lista de tuplas con cada letra en mayúsculas y minúsculas. Las letras no pueden estar repetidas .Usa la función map()\n",
    "def letras_mayus_minus(caracteres):\n",
    "    \"\"\"\n",
    "    Dado un conjunto de caracteres, devuelve una lista de tuplas con cada letra\n",
    "    en mayúscula y minúscula, sin repetir.\n",
    "\n",
    "    Parámetros:\n",
    "    caracteres (iterable): Conjunto o lista de caracteres (str)\n",
    "\n",
    "    Retorna:\n",
    "    list: Lista de tuplas (mayúscula, minúscula)\n",
    "    \"\"\"\n",
    "    # Filtrar solo letras y eliminar duplicados \n",
    "    letras_unicas = set(c.lower() for c in caracteres if c.isalpha())\n",
    "\n",
    "    # Crear tuplas con (mayúscula, minúscula) usando map\n",
    "    return list(map(lambda c: (c.upper(), c.lower()), letras_unicas))"
   ]
  },
  {
   "cell_type": "code",
   "execution_count": 27,
   "id": "725cbead",
   "metadata": {},
   "outputs": [
    {
     "name": "stdout",
     "output_type": "stream",
     "text": [
      "Tuplas mayúscula-minúscula: [('B', 'b'), ('A', 'a'), ('D', 'd'), ('C', 'c')]\n"
     ]
    }
   ],
   "source": [
    "#Ejemplo de uso\n",
    "entrada = {'a', 'B', 'c', 'A', 'd', '1', '!', 'b'}\n",
    "resultado = letras_mayus_minus(entrada)\n",
    "print(\"Tuplas mayúscula-minúscula:\", resultado)"
   ]
  },
  {
   "cell_type": "code",
   "execution_count": 28,
   "id": "854e78d2",
   "metadata": {},
   "outputs": [],
   "source": [
    "#Ejercicio 14: crea una función que retorne las palabras de una lista de palabras que comience con una letra en especifico. Usa la función filter()\n",
    "def palabras_con_letra(palabras, letra):\n",
    "    \"\"\"\n",
    "    Retorna una lista de palabras que comienzan con una letra específica.\n",
    "\n",
    "    Parámetros:\n",
    "    palabras (list): Lista de palabras (str)\n",
    "    letra (str): Letra por la que deben comenzar las palabras (mayúscula o minúscula)\n",
    "\n",
    "    Retorna:\n",
    "    list: Lista de palabras que comienzan con la letra dada\n",
    "    \"\"\"\n",
    "    letra = letra.lower()\n",
    "    return list(filter(lambda palabra: palabra.lower().startswith(letra), palabras))"
   ]
  },
  {
   "cell_type": "code",
   "execution_count": 29,
   "id": "4a2f2b12",
   "metadata": {},
   "outputs": [
    {
     "name": "stdout",
     "output_type": "stream",
     "text": [
      "Palabras que comienzan con 'p': ['Perro', 'Pato', 'Pez']\n"
     ]
    }
   ],
   "source": [
    "#Ejemplo de uso\n",
    "lista = [\"Perro\", \"Gato\", \"Pato\", \"Caballo\", \"Pez\"]\n",
    "resultado = palabras_con_letra(lista, 'p')\n",
    "print(\"Palabras que comienzan con 'p':\", resultado)"
   ]
  },
  {
   "cell_type": "code",
   "execution_count": 30,
   "id": "7def2a57",
   "metadata": {},
   "outputs": [],
   "source": [
    "#Ejercicio 15: crea una función lambda que sume 3 a cada número de una lista dada.\n",
    "def sumar_tres(lista):\n",
    "    \"\"\"\n",
    "    Suma 3 a cada número de una lista usando una función lambda.\n",
    "\n",
    "    Parámetros:\n",
    "    lista (list): Lista de números\n",
    "\n",
    "    Retorna:\n",
    "    list: Nueva lista con cada número incrementado en 3\n",
    "    \"\"\"\n",
    "    return list(map(lambda x: x + 3, lista))"
   ]
  },
  {
   "cell_type": "code",
   "execution_count": 31,
   "id": "446c8cf2",
   "metadata": {},
   "outputs": [
    {
     "name": "stdout",
     "output_type": "stream",
     "text": [
      "Resultado: [4, 7, 10, 13]\n"
     ]
    }
   ],
   "source": [
    "#Ejemplo de uso\n",
    "numeros = [1, 4, 7, 10]\n",
    "resultado = sumar_tres(numeros)\n",
    "print(\"Resultado:\", resultado)  "
   ]
  },
  {
   "cell_type": "code",
   "execution_count": 2,
   "id": "2a8bdf34",
   "metadata": {},
   "outputs": [],
   "source": [
    "#Ejercicio 16: escribe una función que tome una cadena de texto y un número entero n como parámetros y devuelva una lista de todas las palabras que sean más largas que n. Usa la función filter()\n",
    "def palabras_mas_largas_que(texto, n):\n",
    "    \"\"\"\n",
    "    Devuelve una lista de palabras del texto que son más largas que n caracteres.\n",
    "\n",
    "    Parámetros:\n",
    "    texto (str): Cadena de texto\n",
    "    n (int): Longitud mínima que deben superar las palabras\n",
    "\n",
    "    Retorna:\n",
    "    list: Lista de palabras con longitud mayor a n\n",
    "    \"\"\"\n",
    "    palabras = texto.split()\n",
    "    return list(filter(lambda palabra: len(palabra) > n, palabras))"
   ]
  },
  {
   "cell_type": "code",
   "execution_count": 3,
   "id": "e6582414",
   "metadata": {},
   "outputs": [
    {
     "name": "stdout",
     "output_type": "stream",
     "text": [
      "Palabras con más de 6 caracteres: ['soleado']\n"
     ]
    }
   ],
   "source": [
    "#Ejemplo de uso\n",
    "frase = \"Hace un día soleado en Madrid\"\n",
    "resultado = palabras_mas_largas_que(frase, 6)\n",
    "print(\"Palabras con más de 6 caracteres:\", resultado)"
   ]
  },
  {
   "cell_type": "code",
   "execution_count": 4,
   "id": "9fcb70eb",
   "metadata": {},
   "outputs": [],
   "source": [
    "#Ejercicio 17: crea una función que tome una lista de dígitos y devuelva el número correspondiente. Por ejemplo, [5,7,2] corresponde al número quinientos setenta y dos (572). Usa la función reduce()\n",
    "from functools import reduce\n",
    "\n",
    "def lista_a_numero(digitos):\n",
    "    \"\"\"\n",
    "    Convierte una lista de dígitos en el número correspondiente.\n",
    "\n",
    "    Parámetros:\n",
    "    digitos (list): Lista de enteros del 0 al 9\n",
    "\n",
    "    Retorna:\n",
    "    int: Número formado por los dígitos\n",
    "\n",
    "    Lanza:\n",
    "    ValueError: Si la lista está vacía o contiene elementos no válidos\n",
    "    \"\"\"\n",
    "    if not digitos:\n",
    "        raise ValueError(\"La lista de dígitos no puede estar vacía.\")\n",
    "    \n",
    "    if not all(isinstance(d, int) and 0 <= d <= 9 for d in digitos):\n",
    "        raise ValueError(\"Todos los elementos deben ser dígitos enteros entre 0 y 9.\")\n",
    "    return reduce(lambda acc, d: acc * 10 + d, digitos)\n"
   ]
  },
  {
   "cell_type": "code",
   "execution_count": 5,
   "id": "27e8297c",
   "metadata": {},
   "outputs": [
    {
     "name": "stdout",
     "output_type": "stream",
     "text": [
      "Número resultante: 572\n"
     ]
    }
   ],
   "source": [
    "#Ejemplo de uso\n",
    "digitos = [5, 7, 2]\n",
    "resultado = lista_a_numero(digitos)\n",
    "print(\"Número resultante:\", resultado)"
   ]
  },
  {
   "cell_type": "code",
   "execution_count": 36,
   "id": "54e1afa5",
   "metadata": {},
   "outputs": [
    {
     "name": "stdout",
     "output_type": "stream",
     "text": [
      "Estudiantes con calificación >= 90:\n",
      "Ana - Edad: 20 - Calificación: 95\n",
      "Sofía - Edad: 21 - Calificación: 90\n",
      "María - Edad: 20 - Calificación: 92\n"
     ]
    }
   ],
   "source": [
    "#Ejercicio 18: escribe un programa en Python que cree una lista de diccionarios que contenga información de estudiantes(nombre, edad, calificación) y use la función filter para extraer a los estudiantes con una calificación mayor o igual a 90. Usa la función filter()\n",
    "def estudiantes_destacados(estudiantes):\n",
    "    \"\"\"\n",
    "    Filtra y devuelve los estudiantes con calificación mayor o igual a 90.\n",
    "\n",
    "    Parámetros:\n",
    "    estudiantes (list): Lista de diccionarios con claves 'nombre', 'edad', 'calificacion'\n",
    "\n",
    "    Retorna:\n",
    "    list: Lista de estudiantes destacados\n",
    "    \"\"\"\n",
    "    return list(filter(lambda est: est['calificacion'] >= 90, estudiantes))\n",
    "\n",
    "# Lista de estudiantes\n",
    "lista_estudiantes = [\n",
    "    {\"nombre\": \"Ana\", \"edad\": 20, \"calificacion\": 95},\n",
    "    {\"nombre\": \"Luis\", \"edad\": 22, \"calificacion\": 88},\n",
    "    {\"nombre\": \"Sofía\", \"edad\": 21, \"calificacion\": 90},\n",
    "    {\"nombre\": \"Carlos\", \"edad\": 23, \"calificacion\": 78},\n",
    "    {\"nombre\": \"María\", \"edad\": 20, \"calificacion\": 92}\n",
    "]\n",
    "\n",
    "# Filtrar los estudiantes destacados\n",
    "destacados = estudiantes_destacados(lista_estudiantes)\n",
    "\n",
    "# Mostrar resultados\n",
    "print(\"Estudiantes con calificación >= 90:\")\n",
    "for est in destacados:\n",
    "    print(f\"{est['nombre']} - Edad: {est['edad']} - Calificación: {est['calificacion']}\")"
   ]
  },
  {
   "cell_type": "code",
   "execution_count": 37,
   "id": "039c2652",
   "metadata": {},
   "outputs": [],
   "source": [
    "#Ejercicio 19: crea una función lambda que filtre los números impares de una lista dada.\n",
    "def filtrar_impares(lista):\n",
    "    \"\"\"\n",
    "    Filtra los números impares de una lista usando una función lambda.\n",
    "\n",
    "    Parámetros:\n",
    "    lista (list): Lista de números enteros\n",
    "\n",
    "    Retorna:\n",
    "    list: Lista con solo los números impares\n",
    "    \"\"\"\n",
    "    return list(filter(lambda x: x % 2 != 0, lista))"
   ]
  },
  {
   "cell_type": "code",
   "execution_count": 38,
   "id": "a75bb05a",
   "metadata": {},
   "outputs": [
    {
     "name": "stdout",
     "output_type": "stream",
     "text": [
      "Números impares: [1, 3, 5, 7, 9]\n"
     ]
    }
   ],
   "source": [
    "#Ejemplo de uso\n",
    "numeros = [1, 2, 3, 4, 5, 6, 7, 8, 9]\n",
    "resultado = filtrar_impares(numeros)\n",
    "print(\"Números impares:\", resultado)"
   ]
  },
  {
   "cell_type": "code",
   "execution_count": 39,
   "id": "b35c257f",
   "metadata": {},
   "outputs": [],
   "source": [
    "#Ejercicio 20: para una lista con elementos tipo integer y string obtén una nueva lista sólo con los valores int. Usa la función filter()\n",
    "def filtrar_enteros(lista):\n",
    "    \"\"\"\n",
    "    Filtra y devuelve solo los valores enteros de una lista.\n",
    "\n",
    "    Parámetros:\n",
    "    lista (list): Lista con elementos de diferentes tipos (int, str, etc.)\n",
    "\n",
    "    Retorna:\n",
    "    list: Nueva lista solo con los valores enteros\n",
    "    \"\"\"\n",
    "    return list(filter(lambda x: isinstance(x, int), lista))\n"
   ]
  },
  {
   "cell_type": "code",
   "execution_count": 40,
   "id": "63090456",
   "metadata": {},
   "outputs": [
    {
     "name": "stdout",
     "output_type": "stream",
     "text": [
      "Lista con solo enteros: [1, 3, 7, 10]\n"
     ]
    }
   ],
   "source": [
    "#Ejemplo de uso\n",
    "datos = [1, \"hola\", 3, \"42\", 7, \"Python\", 10]\n",
    "solo_enteros = filtrar_enteros(datos)\n",
    "print(\"Lista con solo enteros:\", solo_enteros)"
   ]
  },
  {
   "cell_type": "code",
   "execution_count": 41,
   "id": "ac4648b2",
   "metadata": {},
   "outputs": [],
   "source": [
    "#Ejercicio 21: crea una función que calcule el cubo de un número dado mediante una función lambda\n",
    "def cubo(numero):\n",
    "    \"\"\"\n",
    "    Calcula el cubo de un número usando una función lambda.\n",
    "\n",
    "    Parámetros:\n",
    "    numero (int o float): Número a elevar al cubo\n",
    "\n",
    "    Retorna:\n",
    "    int o float: El cubo del número\n",
    "    \"\"\"\n",
    "    calcular_cubo = lambda x: x ** 3\n",
    "    return calcular_cubo(numero)"
   ]
  },
  {
   "cell_type": "code",
   "execution_count": 42,
   "id": "2dc33dbd",
   "metadata": {},
   "outputs": [
    {
     "name": "stdout",
     "output_type": "stream",
     "text": [
      "Cubo de 3: 27\n",
      "Cubo de 1.5: 3.375\n"
     ]
    }
   ],
   "source": [
    "#Ejemplos de uso\n",
    "print(\"Cubo de 3:\", cubo(3))   \n",
    "print(\"Cubo de 1.5:\", cubo(1.5))"
   ]
  },
  {
   "cell_type": "code",
   "execution_count": 9,
   "id": "48e443a4",
   "metadata": {},
   "outputs": [],
   "source": [
    "#Ejercicio 22: dada una lista numérica, obtén el producto total de los valores de dicha lista.Usa la función reduce() .\n",
    "from functools import reduce\n",
    "\n",
    "def producto_total(lista):\n",
    "    \"\"\"\n",
    "    Calcula el producto total de los valores en una lista numérica.\n",
    "\n",
    "    Parámetros:\n",
    "    lista (list): Lista de números (int o float)\n",
    "\n",
    "    Retorna:\n",
    "    int o float: Producto total de los elementos. Si la lista está vacía, devuelve 1.\n",
    "\n",
    "    Lanza:\n",
    "    ValueError: Si algún elemento no es numérico.\n",
    "    \"\"\"\n",
    "    if not all(isinstance(x, (int, float)) for x in lista):\n",
    "        raise ValueError(\"Todos los elementos deben ser números (int o float).\")\n",
    "\n",
    "    return reduce(lambda x, y: x * y, lista,1)"
   ]
  },
  {
   "cell_type": "code",
   "execution_count": 10,
   "id": "3b52b2a8",
   "metadata": {},
   "outputs": [
    {
     "name": "stdout",
     "output_type": "stream",
     "text": [
      "Producto total: 24\n"
     ]
    }
   ],
   "source": [
    "#Ejemplo de uso\n",
    "numeros = [2, 3, 4]\n",
    "resultado = producto_total(numeros)\n",
    "print(\"Producto total:\", resultado) "
   ]
  },
  {
   "cell_type": "code",
   "execution_count": 45,
   "id": "23cf54e8",
   "metadata": {},
   "outputs": [],
   "source": [
    "#Ejercicio 23: concatena una lista de palabras.Usa la función reduce()\n",
    "from functools import reduce\n",
    "\n",
    "def concatenar_palabras(lista):\n",
    "    \"\"\"\n",
    "    Concatena todas las palabras de una lista en una sola cadena.\n",
    "\n",
    "    Parámetros:\n",
    "    lista (list): Lista de palabras (strings)\n",
    "\n",
    "    Retorna:\n",
    "    str: Cadena resultante de la concatenación\n",
    "    \"\"\"\n",
    "    return reduce(lambda x, y: x + y, lista)\n"
   ]
  },
  {
   "cell_type": "code",
   "execution_count": 47,
   "id": "31f4896c",
   "metadata": {},
   "outputs": [
    {
     "name": "stdout",
     "output_type": "stream",
     "text": [
      "Resultado: Hola, buenos días\n"
     ]
    }
   ],
   "source": [
    "#Ejemplo de uso\n",
    "palabras = [\"Hola,\", \" \", \"buenos días\", ]\n",
    "resultado = concatenar_palabras(palabras)\n",
    "print(\"Resultado:\", resultado)"
   ]
  },
  {
   "cell_type": "code",
   "execution_count": 48,
   "id": "82a3d2ae",
   "metadata": {},
   "outputs": [],
   "source": [
    "#Ejercicio 24: calcula la diferencia total en los valores de una lista. Usa la función reduce()\n",
    "from functools import reduce\n",
    "\n",
    "def diferencia_total(lista):\n",
    "    \"\"\"\n",
    "    Calcula la diferencia total en los valores de una lista.\n",
    "    Se realiza de izquierda a derecha: (((a - b) - c) - d)...\n",
    "\n",
    "    Parámetros:\n",
    "    lista (list): Lista de números\n",
    "\n",
    "    Retorna:\n",
    "    int o float: Resultado de restar todos los valores secuencialmente\n",
    "    \"\"\"\n",
    "    if not lista:\n",
    "        raise ValueError(\"La lista no puede estar vacía.\")\n",
    "    return reduce(lambda x, y: x - y, lista)"
   ]
  },
  {
   "cell_type": "code",
   "execution_count": 49,
   "id": "a7cefa74",
   "metadata": {},
   "outputs": [
    {
     "name": "stdout",
     "output_type": "stream",
     "text": [
      "Diferencia total: 65\n"
     ]
    }
   ],
   "source": [
    "#Ejemplo de uso\n",
    "numeros = [100, 20, 10, 5]\n",
    "resultado = diferencia_total(numeros)\n",
    "print(\"Diferencia total:\", resultado)\n"
   ]
  },
  {
   "cell_type": "code",
   "execution_count": 50,
   "id": "37904da8",
   "metadata": {},
   "outputs": [],
   "source": [
    "#Ejercicio 25: crea una función que cuente el número de caracteres en una cadena de texto dada.\n",
    "def contar_caracteres(texto):\n",
    "    \"\"\"\n",
    "    Cuenta el número total de caracteres en una cadena de texto.\n",
    "\n",
    "    Parámetros:\n",
    "    texto (str): Cadena de texto\n",
    "\n",
    "    Retorna:\n",
    "    int: Número total de caracteres\n",
    "    \"\"\"\n",
    "    return len(texto)"
   ]
  },
  {
   "cell_type": "code",
   "execution_count": 51,
   "id": "2b7e02e1",
   "metadata": {},
   "outputs": [
    {
     "name": "stdout",
     "output_type": "stream",
     "text": [
      "Número de caracteres: 22\n"
     ]
    }
   ],
   "source": [
    "#Ejemplo de uso\n",
    "cadena = \"Tengo un pastor alemán\"\n",
    "total_caracteres = contar_caracteres(cadena)\n",
    "print(f\"Número de caracteres: {total_caracteres}\")"
   ]
  },
  {
   "cell_type": "code",
   "execution_count": 52,
   "id": "31a578d2",
   "metadata": {},
   "outputs": [],
   "source": [
    "#Ejercicio 26: crea una función lambda que calcule el resto de la división entre dos números dados.\n",
    "calcular_resto = lambda x, y: x % y"
   ]
  },
  {
   "cell_type": "code",
   "execution_count": 53,
   "id": "37862e2d",
   "metadata": {},
   "outputs": [
    {
     "name": "stdout",
     "output_type": "stream",
     "text": [
      "El resto de dividir 17 entre 5 es 2\n"
     ]
    }
   ],
   "source": [
    "#Ejemplo de uso\n",
    "dividendo = 17\n",
    "divisor = 5\n",
    "resultado = calcular_resto(dividendo, divisor)\n",
    "print(f\"El resto de dividir {dividendo} entre {divisor} es {resultado}\")"
   ]
  },
  {
   "cell_type": "code",
   "execution_count": 11,
   "id": "356f4b65",
   "metadata": {},
   "outputs": [],
   "source": [
    "#Ejercicio 27: crea una función que calcule el promedio de una lista de números.\n",
    "def calcular_media(lista_numeros):\n",
    "    \"\"\"\n",
    "    Calcula el promedio de una lista de números.\n",
    "\n",
    "    Parámetros:\n",
    "    lista_numeros (list): Lista de números (int o float)\n",
    "\n",
    "    Retorna:\n",
    "    float: Promedio de los números en la lista\n",
    "\n",
    "    Lanza:\n",
    "    ValueError: Si la lista está vacía\n",
    "    \"\"\"\n",
    "    if not lista_numeros:\n",
    "        raise ValueError(\"La lista está vacía y no se puede calcular el promedio.\")\n",
    "\n",
    "    return sum(lista_numeros) / len(lista_numeros)"
   ]
  },
  {
   "cell_type": "code",
   "execution_count": 12,
   "id": "0129185a",
   "metadata": {},
   "outputs": [
    {
     "name": "stdout",
     "output_type": "stream",
     "text": [
      "El promedio es: 25.0\n"
     ]
    }
   ],
   "source": [
    "#Ejemplo de uso\n",
    "numeros = [10, 20, 30, 40]\n",
    "promedio = calcular_media(numeros)\n",
    "print(f\"El promedio es: {promedio}\")"
   ]
  },
  {
   "cell_type": "code",
   "execution_count": 56,
   "id": "2f0a520f",
   "metadata": {},
   "outputs": [
    {
     "name": "stdout",
     "output_type": "stream",
     "text": [
      "Primer duplicado encontrado: 5\n"
     ]
    }
   ],
   "source": [
    "#Ejercicio 28: crea una función que busque y devuelva el primer elemento duplicado en una lista dada.\n",
    "def encontrar_primer_duplicado(lista):\n",
    "    \"\"\"\n",
    "    Busca y devuelve el primer elemento duplicado en una lista.\n",
    "\n",
    "    Parámetros:\n",
    "    lista (list): Lista de elementos (pueden ser de cualquier tipo hashable)\n",
    "\n",
    "    Retorna:\n",
    "    El primer elemento duplicado si lo hay, de lo contrario None.\n",
    "    \"\"\"\n",
    "    vistos = set()\n",
    "    for elemento in lista:\n",
    "        if elemento in vistos:\n",
    "            return elemento\n",
    "        vistos.add(elemento)\n",
    "    return None\n",
    "\n",
    "# Ejemplo de uso\n",
    "datos = [3, 5, 1, 4, 5, 2, 3]\n",
    "duplicado = encontrar_primer_duplicado(datos)\n",
    "print(f\"Primer duplicado encontrado: {duplicado}\")"
   ]
  },
  {
   "cell_type": "code",
   "execution_count": 57,
   "id": "21f2ca69",
   "metadata": {},
   "outputs": [],
   "source": [
    "#Ejercicio 29: crea una función que convierta una variable en una cadena de texto y enmascare todos los caracteres con el carácter '#', excepto los últimos cuatro.\n",
    "def enmascarar(valor):\n",
    "    \"\"\"\n",
    "    Convierte el valor en cadena y enmascara todos los caracteres con '#',\n",
    "    excepto los últimos cuatro.\n",
    "\n",
    "    Parámetros:\n",
    "    valor (cualquier tipo): El valor a enmascarar\n",
    "\n",
    "    Retorna:\n",
    "    str: Cadena enmascarada\n",
    "    \"\"\"\n",
    "    texto = str(valor)\n",
    "    if len(texto) <= 4:\n",
    "        return texto\n",
    "    return '#' * (len(texto) - 4) + texto[-4:]\n"
   ]
  },
  {
   "cell_type": "code",
   "execution_count": 58,
   "id": "2bc29eae",
   "metadata": {},
   "outputs": [
    {
     "name": "stdout",
     "output_type": "stream",
     "text": [
      "#####6789\n",
      "########reta\n",
      "9876\n"
     ]
    }
   ],
   "source": [
    "#Ejemplos de uso\n",
    "print(enmascarar(123456789))   \n",
    "print(enmascarar(\"claveSecreta\")) \n",
    "print(enmascarar(9876))           "
   ]
  },
  {
   "cell_type": "code",
   "execution_count": 59,
   "id": "4a6138cc",
   "metadata": {},
   "outputs": [],
   "source": [
    "#Ejercicio 30: crea una función que determine si dos palabras son anagramas, es decir, si están formadas por las mismas letras pero en diferente orden\n",
    "def son_anagramas(palabra1, palabra2):\n",
    "    \"\"\"\n",
    "    Determina si dos palabras son anagramas.\n",
    "\n",
    "    Parámetros:\n",
    "    palabra1 (str): Primera palabra\n",
    "    palabra2 (str): Segunda palabra\n",
    "\n",
    "    Retorna:\n",
    "    bool: True si son anagramas, False en caso contrario\n",
    "    \"\"\"\n",
    "    # Limpiamos espacios y convertimos a minúsculas para comparación consistente\n",
    "    palabra1 = palabra1.replace(\" \", \"\").lower()\n",
    "    palabra2 = palabra2.replace(\" \", \"\").lower()\n",
    "\n",
    "    return sorted(palabra1) == sorted(palabra2)"
   ]
  },
  {
   "cell_type": "code",
   "execution_count": 61,
   "id": "824e8d20",
   "metadata": {},
   "outputs": [
    {
     "name": "stdout",
     "output_type": "stream",
     "text": [
      "True\n",
      "False\n"
     ]
    }
   ],
   "source": [
    "#Ejemplos de uso\n",
    "print(son_anagramas(\"Roma\", \"Amor\"))\n",
    "print(son_anagramas(\"Hola\", \"Hello\"))       "
   ]
  },
  {
   "cell_type": "code",
   "execution_count": 64,
   "id": "9e9d5429",
   "metadata": {},
   "outputs": [],
   "source": [
    "#Ejercicio 31: crea una función que solicite al usuario ingresar una lista de nombres y luego solicite un nombre para buscar en esa lista. Si el nombre está en la lista, se imprime un mensaje indicando que fue encontrado, de lo contrario, se lanza una excepción.\n",
    "def buscar_nombre_en_lista():\n",
    "    \"\"\"\n",
    "    Solicita al usuario ingresar una lista de nombres separados por comas,\n",
    "    luego solicita un nombre para buscar en esa lista.\n",
    "    Imprime un mensaje si el nombre se encuentra, \n",
    "    o lanza una excepción si no está.\n",
    "    \"\"\"\n",
    "    try:\n",
    "        entrada = input(\"Ingresa una lista de nombres separados por comas: \")\n",
    "        lista_nombres = [nombre.strip() for nombre in entrada.split(\",\") if nombre.strip()]\n",
    "\n",
    "        if not lista_nombres:\n",
    "            raise ValueError(\"La lista de nombres no puede estar vacía.\")\n",
    "\n",
    "        nombre_buscar = input(\"Ingresa el nombre a buscar: \").strip()\n",
    "\n",
    "        if nombre_buscar in lista_nombres:\n",
    "            print(f\"El nombre '{nombre_buscar}' fue encontrado en la lista.\")\n",
    "        else:\n",
    "            raise NameError(f\"El nombre '{nombre_buscar}' no está en la lista.\")\n",
    "\n",
    "    except Exception as e:\n",
    "        print(f\"Error: {e}\")\n"
   ]
  },
  {
   "cell_type": "code",
   "execution_count": 65,
   "id": "0a036910",
   "metadata": {},
   "outputs": [],
   "source": [
    "#Ejercicio 32: crea una función que tome un nombre completo y una lista de empleados, busque el nombre completo en la lista y devuelve el puesto del empleado si está en la lista, de lo contrario, devuelve un mensaje indicando que la persona no trabaja aquí.\n",
    "def obtener_puesto_empleado(nombre_buscar, lista_empleados):\n",
    "    \"\"\"\n",
    "    Busca un nombre completo en la lista de empleados y devuelve su puesto.\n",
    "\n",
    "    Parámetros:\n",
    "    nombre_buscar (str): Nombre completo del empleado a buscar\n",
    "    lista_empleados (list): Lista de tuplas (nombre_completo, puesto)\n",
    "\n",
    "    Retorna:\n",
    "    str: Puesto del empleado si está en la lista, o un mensaje indicando que no trabaja aquí.\n",
    "    \"\"\"\n",
    "    for nombre, puesto in lista_empleados:\n",
    "        if nombre.strip().lower() == nombre_buscar.strip().lower():\n",
    "            return f\"{nombre} trabaja como {puesto}.\"\n",
    "    \n",
    "    return f\"{nombre_buscar} no trabaja aquí.\""
   ]
  },
  {
   "cell_type": "code",
   "execution_count": 66,
   "id": "de7a90eb",
   "metadata": {},
   "outputs": [],
   "source": [
    "#Ejemplo de uso\n",
    "empleados = [\n",
    "    (\"Ana Gómez\", \"Contadora\"),\n",
    "    (\"Luis Pérez\", \"Ingeniero de sistemas\"),\n",
    "    (\"Carla Soto\", \"Diseñadora gráfica\"),\n",
    "]"
   ]
  },
  {
   "cell_type": "code",
   "execution_count": 67,
   "id": "e806e022",
   "metadata": {},
   "outputs": [
    {
     "name": "stdout",
     "output_type": "stream",
     "text": [
      "Luis Pérez trabaja como Ingeniero de sistemas.\n"
     ]
    }
   ],
   "source": [
    "nombre_a_buscar = \"luis pérez\"\n",
    "resultado = obtener_puesto_empleado(nombre_a_buscar, empleados)\n",
    "print(resultado)"
   ]
  },
  {
   "cell_type": "code",
   "execution_count": 68,
   "id": "62f1e487",
   "metadata": {},
   "outputs": [],
   "source": [
    "#Ejercicio 33: crea una función lambda que sume elementos correspondientes de dos listas dadas.\n",
    "sumar_listas = lambda lista1, lista2: list(map(lambda x, y: x + y, lista1, lista2))"
   ]
  },
  {
   "cell_type": "code",
   "execution_count": 69,
   "id": "8eba8c19",
   "metadata": {},
   "outputs": [
    {
     "name": "stdout",
     "output_type": "stream",
     "text": [
      "Suma de listas: [5, 7, 9]\n"
     ]
    }
   ],
   "source": [
    "#Ejemplo de uso\n",
    "lista_a = [1, 2, 3]\n",
    "lista_b = [4, 5, 6]\n",
    "resultado = sumar_listas(lista_a, lista_b)\n",
    "print(\"Suma de listas:\", resultado)"
   ]
  },
  {
   "cell_type": "code",
   "execution_count": 17,
   "id": "17953f46",
   "metadata": {},
   "outputs": [],
   "source": [
    "#Ejercicio 34: crea la clase Arbol , define un árbol genérico con un tronco y ramas como atributos. Los métodos disponibles son: crecer_tronco , nueva_rama , crecer_ramas , quitar_rama e info_arbol . El objetivo es implementar estos métodos para manipular la estructura del árbol.\n",
    "\n",
    "# Inicializar un árbol con un tronco de longitud 1 y una lista vacía de ramas.\n",
    "class Arbol:\n",
    "    def __init__(self):\n",
    "        self.tronco = 1\n",
    "        self.ramas = []\n",
    "\n",
    "#Implementar el método crecer_tronco para aumentar la longitud del tronco en una unidad.        \n",
    "    def crecer_tronco(self):\n",
    "        self.tronco += 1\n",
    "\n",
    " #Implementar el método nueva_rama para agregar una nueva rama de longitud 1 a la lista de ramas.\n",
    "    def nueva_rama(self):\n",
    "        self.ramas.append(1)\n",
    "\n",
    "#Implementar el método crecer_ramas para aumentar en una unidad la longitud de todas las ramas existentes.\n",
    "    def crecer_ramas(self):\n",
    "        self.ramas = [longitud + 1 for longitud in self.ramas]\n",
    "\n",
    "#Implementar el método quitar_rama para eliminar una rama en una posición específica.\n",
    "    def quitar_rama(self, posicion):\n",
    "     try:\n",
    "        self.ramas.pop(posicion)\n",
    "     except IndexError:\n",
    "        raise IndexError(f\"Posición {posicion} fuera de rango\")\n",
    "\n",
    "#Implementar el método info_arbol para devolver información sobre la longitud del tronco, el número de ramas y las longitudes de las mismas.\n",
    "    def info_arbol(self):\n",
    "        return {\n",
    "            \"longitud_tronco\": self.tronco,\n",
    "            \"numero_ramas\": len(self.ramas),\n",
    "            \"longitudes_ramas\": self.ramas\n",
    "        }"
   ]
  },
  {
   "cell_type": "code",
   "execution_count": 15,
   "id": "ac26babb",
   "metadata": {},
   "outputs": [],
   "source": [
    "#Casos de uso\n",
    "\n",
    "#Crear un árbol\n",
    "mi_arbol = Arbol()\n",
    "\n",
    "#Hacer crecer el tronco una unidad\n",
    "mi_arbol.crecer_tronco()\n",
    "\n",
    "#Añadir una nueva rama\n",
    "mi_arbol.nueva_rama()\n",
    "\n",
    "#Hacer crecer todas las ramas una unidad\n",
    "mi_arbol.crecer_ramas()\n",
    "\n",
    "#Añadir dos nuevas ramas\n",
    "mi_arbol.nueva_rama()\n",
    "mi_arbol.nueva_rama()\n",
    "\n",
    "#Retirar la rama en la posición 2 (índice 2)\n",
    "mi_arbol.quitar_rama(2)"
   ]
  },
  {
   "cell_type": "code",
   "execution_count": 16,
   "id": "f3663ae0",
   "metadata": {},
   "outputs": [
    {
     "name": "stdout",
     "output_type": "stream",
     "text": [
      "Información del árbol:\n",
      "- Longitud del tronco: 2\n",
      "- Número de ramas: 2\n",
      "- Longitudes de ramas: [2, 1]\n"
     ]
    }
   ],
   "source": [
    "#Obtener información sobre el árbol\n",
    "info = mi_arbol.info_arbol()\n",
    "print(\"Información del árbol:\")\n",
    "print(f\"- Longitud del tronco: {info['longitud_tronco']}\")\n",
    "print(f\"- Número de ramas: {info['numero_ramas']}\")\n",
    "print(f\"- Longitudes de ramas: {info['longitudes_ramas']}\")"
   ]
  },
  {
   "cell_type": "code",
   "execution_count": 21,
   "id": "e9e911c9",
   "metadata": {},
   "outputs": [],
   "source": [
    "#Ejercicio 36: crea la clase UsuarioBanco ,representa a un usuario de un banco con su nombre, saldo y si tiene o no cuenta corriente. Proporciona métodos para realizar operaciones como retirar dinero, transferir dinero desde otro usuario y agregar dinero al saldo\n",
    "\n",
    "#Inicializar un usuario con su nombre, saldo y si tiene o no cuenta corriente mediante True y False .\n",
    "class UsuarioBanco:\n",
    "    def __init__(self, nombre, saldo, cuenta_corriente):\n",
    "        self.nombre = nombre\n",
    "        self.saldo = saldo\n",
    "        self.cuenta_corriente = cuenta_corriente\n",
    "\n",
    "#Implementar el método retirar_dinero para retirar dinero del saldo del usuario. Lanzará un error en caso de no poder hacerse.\n",
    "    def retirar_dinero(self, cantidad):\n",
    "        if cantidad <= 0:\n",
    "            raise ValueError(\"La cantidad a retirar debe ser positiva.\")\n",
    "        if cantidad > self.saldo:\n",
    "            raise ValueError(f\"{self.nombre} no tiene suficiente saldo para retirar {cantidad}.\")\n",
    "        self.saldo -= cantidad\n",
    "        return True\n",
    "\n",
    "#Implementar el método transferir_dinero para realizar una transferencia desde otro usuario al usuario actual. Lanzará un error en caso de no poder hacerse.\n",
    "    def transferir_dinero(self, desde_usuario, cantidad):\n",
    "        \"\"\"\n",
    "        Recibe una transferencia desde otro usuario (desde_usuario).\n",
    "        Se valida que desde_usuario tenga cuenta corriente, saldo suficiente,\n",
    "        y que la cantidad sea positiva.\n",
    "        \"\"\"\n",
    "        if not isinstance(desde_usuario, UsuarioBanco):\n",
    "            raise TypeError(\"El emisor debe ser una instancia de UsuarioBanco.\")\n",
    "        if not desde_usuario.cuenta_corriente:\n",
    "            raise ValueError(f\"{desde_usuario.nombre} no tiene cuenta corriente.\")\n",
    "        if cantidad <= 0:\n",
    "            raise ValueError(\"La cantidad a transferir debe ser positiva.\")\n",
    "        if cantidad > desde_usuario.saldo:\n",
    "            raise ValueError(f\"{desde_usuario.nombre} no tiene saldo suficiente para transferir {cantidad}.\")\n",
    "        desde_usuario.saldo -= cantidad\n",
    "        self.saldo += cantidad\n",
    "        return True\n",
    "\n",
    "#Implementar el método agregar_dinero para agregar dinero al saldo del usuario.\n",
    "    def agregar_dinero(self, cantidad):\n",
    "        if cantidad <= 0:\n",
    "            raise ValueError(\"La cantidad a agregar debe ser positiva.\")\n",
    "        self.saldo += cantidad\n",
    "        return True"
   ]
  },
  {
   "cell_type": "code",
   "execution_count": 22,
   "id": "58b01b9c",
   "metadata": {},
   "outputs": [],
   "source": [
    "#Casos de uso\n",
    "\n",
    "#Crear usuarios\n",
    "Alicia = UsuarioBanco(\"Alicia\", 100, True)\n",
    "Bob = UsuarioBanco(\"Bob\", 50, True)"
   ]
  },
  {
   "cell_type": "code",
   "execution_count": 23,
   "id": "99d32b55",
   "metadata": {},
   "outputs": [
    {
     "data": {
      "text/plain": [
       "True"
      ]
     },
     "execution_count": 23,
     "metadata": {},
     "output_type": "execute_result"
    }
   ],
   "source": [
    "#Agregar 20 unidades a Bob\n",
    "Bob.agregar_dinero(20)"
   ]
  },
  {
   "cell_type": "code",
   "execution_count": 24,
   "id": "27c19112",
   "metadata": {},
   "outputs": [
    {
     "ename": "ValueError",
     "evalue": "Bob no tiene saldo suficiente para transferir 80.",
     "output_type": "error",
     "traceback": [
      "\u001b[1;31m---------------------------------------------------------------------------\u001b[0m",
      "\u001b[1;31mValueError\u001b[0m                                Traceback (most recent call last)",
      "Cell \u001b[1;32mIn[24], line 2\u001b[0m\n\u001b[0;32m      1\u001b[0m \u001b[38;5;66;03m#Transferir 80 unidades de Bob a Alicia\u001b[39;00m\n\u001b[1;32m----> 2\u001b[0m Alicia\u001b[38;5;241m.\u001b[39mtransferir_dinero(Bob, \u001b[38;5;241m80\u001b[39m)\n",
      "Cell \u001b[1;32mIn[21], line 33\u001b[0m, in \u001b[0;36mUsuarioBanco.transferir_dinero\u001b[1;34m(self, desde_usuario, cantidad)\u001b[0m\n\u001b[0;32m     31\u001b[0m     \u001b[38;5;28;01mraise\u001b[39;00m \u001b[38;5;167;01mValueError\u001b[39;00m(\u001b[38;5;124m\"\u001b[39m\u001b[38;5;124mLa cantidad a transferir debe ser positiva.\u001b[39m\u001b[38;5;124m\"\u001b[39m)\n\u001b[0;32m     32\u001b[0m \u001b[38;5;28;01mif\u001b[39;00m cantidad \u001b[38;5;241m>\u001b[39m desde_usuario\u001b[38;5;241m.\u001b[39msaldo:\n\u001b[1;32m---> 33\u001b[0m     \u001b[38;5;28;01mraise\u001b[39;00m \u001b[38;5;167;01mValueError\u001b[39;00m(\u001b[38;5;124mf\u001b[39m\u001b[38;5;124m\"\u001b[39m\u001b[38;5;132;01m{\u001b[39;00mdesde_usuario\u001b[38;5;241m.\u001b[39mnombre\u001b[38;5;132;01m}\u001b[39;00m\u001b[38;5;124m no tiene saldo suficiente para transferir \u001b[39m\u001b[38;5;132;01m{\u001b[39;00mcantidad\u001b[38;5;132;01m}\u001b[39;00m\u001b[38;5;124m.\u001b[39m\u001b[38;5;124m\"\u001b[39m)\n\u001b[0;32m     34\u001b[0m desde_usuario\u001b[38;5;241m.\u001b[39msaldo \u001b[38;5;241m-\u001b[39m\u001b[38;5;241m=\u001b[39m cantidad\n\u001b[0;32m     35\u001b[0m \u001b[38;5;28mself\u001b[39m\u001b[38;5;241m.\u001b[39msaldo \u001b[38;5;241m+\u001b[39m\u001b[38;5;241m=\u001b[39m cantidad\n",
      "\u001b[1;31mValueError\u001b[0m: Bob no tiene saldo suficiente para transferir 80."
     ]
    }
   ],
   "source": [
    "#Transferir 80 unidades de Bob a Alicia\n",
    "Alicia.transferir_dinero(Bob, 80)"
   ]
  },
  {
   "cell_type": "code",
   "execution_count": 25,
   "id": "c31cbb16",
   "metadata": {},
   "outputs": [
    {
     "data": {
      "text/plain": [
       "True"
      ]
     },
     "execution_count": 25,
     "metadata": {},
     "output_type": "execute_result"
    }
   ],
   "source": [
    "#Retirar 50 unidades de Alicia\n",
    "Alicia.retirar_dinero(50)"
   ]
  },
  {
   "cell_type": "code",
   "execution_count": 79,
   "id": "906fa2d8",
   "metadata": {},
   "outputs": [
    {
     "name": "stdout",
     "output_type": "stream",
     "text": [
      "Es de día (mañana)\n"
     ]
    }
   ],
   "source": [
    "#Ejercicio 38: genera un programa que nos diga si es de noche, de día o tarde según la hora proporcionada por el usuario\n",
    "def obtener_momento_del_dia(hora):\n",
    "    if 0 <= hora <= 5 or 19 <= hora <= 23:\n",
    "        return \"Es de noche\"\n",
    "    elif 6 <= hora <= 11:\n",
    "        return \"Es de día (mañana)\"\n",
    "    elif 12 <= hora <= 18:\n",
    "        return \"Es de tarde\"\n",
    "    else:\n",
    "        raise ValueError(\"La hora debe estar entre 0 y 23\")\n",
    "\n",
    "def main():\n",
    "    try:\n",
    "        entrada = input(\"Introduce la hora (0 a 23): \")\n",
    "        hora = int(entrada)\n",
    "        momento = obtener_momento_del_dia(hora)\n",
    "        print(momento)\n",
    "    except ValueError:\n",
    "        print(\"Entrada inválida. Por favor, introduce un número entre 0 y 23.\")\n",
    "\n",
    "if __name__ == \"__main__\":\n",
    "    main()"
   ]
  },
  {
   "cell_type": "code",
   "execution_count": 80,
   "id": "d64b0822",
   "metadata": {},
   "outputs": [
    {
     "name": "stdout",
     "output_type": "stream",
     "text": [
      "Calificación: Insuficiente\n"
     ]
    }
   ],
   "source": [
    "#Ejercicio 39: escribe un programa que determine qué calificación en texto tiene un alumno en base a su calificación numérica. Las reglas de calificación son:\n",
    "#0 - 69 insuficiente\n",
    "#70 - 79 bien\n",
    "#80 - 89 muy bien\n",
    "#90 - 100 excelente\n",
    "\n",
    "def obtener_calificacion_texto(nota):\n",
    "    if 0 <= nota <= 69:\n",
    "        return \"Insuficiente\"\n",
    "    elif 70 <= nota <= 79:\n",
    "        return \"Bien\"\n",
    "    elif 80 <= nota <= 89:\n",
    "        return \"Muy bien\"\n",
    "    elif 90 <= nota <= 100:\n",
    "        return \"Excelente\"\n",
    "    else:\n",
    "        raise ValueError(\"La nota debe estar entre 0 y 100\")\n",
    "\n",
    "def main():\n",
    "    try:\n",
    "        entrada = input(\"Introduce la calificación numérica (0 - 100): \")\n",
    "        nota = int(entrada)\n",
    "        calificacion = obtener_calificacion_texto(nota)\n",
    "        print(f\"Calificación: {calificacion}\")\n",
    "    except ValueError as e:\n",
    "        print(f\"Error: {e}\")\n",
    "\n",
    "if __name__ == \"__main__\":\n",
    "    main()"
   ]
  },
  {
   "cell_type": "code",
   "execution_count": 81,
   "id": "035ddc72",
   "metadata": {},
   "outputs": [],
   "source": [
    "#Ejercicio 40: escribe una función que tome dos parámetros: figura (una cadena que puede ser \"rectangulo\" , \"circulo\" o \"triangulo\" ) y datos (una tupla con los datos necesarios para calcular el área de la figura)\n",
    "import math\n",
    "\n",
    "def calcular_area(figura, datos):\n",
    "    figura = figura.lower()\n",
    "\n",
    "    if figura == \"rectangulo\":\n",
    "        if len(datos) != 2:\n",
    "            raise ValueError(\"El rectángulo requiere base y altura.\")\n",
    "        base, altura = datos\n",
    "        return base * altura\n",
    "\n",
    "    elif figura == \"circulo\":\n",
    "        if len(datos) != 1:\n",
    "            raise ValueError(\"El círculo requiere solo el radio.\")\n",
    "        radio, = datos\n",
    "        return math.pi * radio ** 2\n",
    "\n",
    "    elif figura == \"triangulo\":\n",
    "        if len(datos) != 2:\n",
    "            raise ValueError(\"El triángulo requiere base y altura.\")\n",
    "        base, altura = datos\n",
    "        return 0.5 * base * altura\n",
    "\n",
    "    else:\n",
    "        raise ValueError(\"Figura no reconocida. Usa: rectangulo, circulo o triangulo.\")"
   ]
  },
  {
   "cell_type": "code",
   "execution_count": 82,
   "id": "4f5d1df0",
   "metadata": {},
   "outputs": [
    {
     "name": "stdout",
     "output_type": "stream",
     "text": [
      "15\n",
      "6.0\n"
     ]
    }
   ],
   "source": [
    "#Ejemplo de uso\n",
    "print(calcular_area(\"rectangulo\", (5, 3))) \n",
    "print(calcular_area(\"triangulo\", (6, 2)))   "
   ]
  },
  {
   "cell_type": "code",
   "execution_count": 83,
   "id": "b5cb6bd6",
   "metadata": {},
   "outputs": [
    {
     "name": "stdout",
     "output_type": "stream",
     "text": [
      "Descuento aplicado: 2.0 €\n",
      "El precio final de la compra es: 38.00 €\n"
     ]
    }
   ],
   "source": [
    "#Ejercicio 41: en este ejercicio, se te pedirá que escribas un programa en Python que utilice condicionales para determinar el monto final de una compra en una tienda en línea, después de aplicar un descuento. El programa debe hacer lo siguiente:\n",
    "def calcular_precio_final():\n",
    "    try:\n",
    "#Solicita al usuario que ingrese el precio original de un artículo        \n",
    "        precio_original = float(input(\"Introduce el precio original del artículo (€): \"))\n",
    "        if precio_original <= 0:\n",
    "            print(\"El precio debe ser mayor que cero.\")\n",
    "            return\n",
    "#Pregunta al usuario si tiene un cupón de descuento (respuesta sí o no).\n",
    "        tiene_cupon = input(\"¿Tienes un cupón de descuento? (sí/no): \").strip().lower()\n",
    "#Si el usuario responde que sí, solicita que ingrese el valor del cupón de descuento.\n",
    "        if tiene_cupon == \"sí\" or tiene_cupon == \"si\":\n",
    "            valor_cupon = float(input(\"Introduce el valor del cupón (€): \"))\n",
    "            if valor_cupon > 0:\n",
    "                precio_final = max(precio_original - valor_cupon, 0)\n",
    "                print(f\"Descuento aplicado: {valor_cupon} €\")\n",
    "            else:\n",
    "                print(\"Cupón no válido. No se aplicará descuento.\")\n",
    "                precio_final = precio_original\n",
    "        else:\n",
    "            print(\"No se aplicará ningún descuento.\")\n",
    "            precio_final = precio_original\n",
    "\n",
    "        print(f\"El precio final de la compra es: {precio_final:.2f} €\")\n",
    "\n",
    "    except ValueError:\n",
    "        print(\"Entrada inválida. Asegúrate de introducir números válidos.\")\n",
    "\n",
    "# Ejecutar el programa\n",
    "if __name__ == \"__main__\":\n",
    "    calcular_precio_final()"
   ]
  }
 ],
 "metadata": {
  "kernelspec": {
   "display_name": "base",
   "language": "python",
   "name": "python3"
  },
  "language_info": {
   "codemirror_mode": {
    "name": "ipython",
    "version": 3
   },
   "file_extension": ".py",
   "mimetype": "text/x-python",
   "name": "python",
   "nbconvert_exporter": "python",
   "pygments_lexer": "ipython3",
   "version": "3.11.5"
  }
 },
 "nbformat": 4,
 "nbformat_minor": 5
}
